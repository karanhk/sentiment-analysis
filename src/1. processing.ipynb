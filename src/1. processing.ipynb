{
 "cells": [
  {
   "cell_type": "code",
   "execution_count": 1,
   "metadata": {},
   "outputs": [],
   "source": [
    "import pandas as pd\n",
    "import nltk\n",
    "from sklearn.model_selection import train_test_split"
   ]
  },
  {
   "cell_type": "markdown",
   "metadata": {},
   "source": [
    "### Split into train and validation"
   ]
  },
  {
   "cell_type": "code",
   "execution_count": 2,
   "metadata": {},
   "outputs": [],
   "source": [
    "df = pd.read_csv('../data/org_train.csv',encoding='latin1',usecols=['text','sentiment'])\n",
    "train_df, val_df = train_test_split(df,test_size=0.2,random_state=42)\n",
    "\n",
    "train_df.to_csv('../data/train.csv',index=False)\n",
    "val_df.to_csv('../data/val.csv',index=False)"
   ]
  },
  {
   "cell_type": "markdown",
   "metadata": {},
   "source": [
    "### Read the CSV"
   ]
  },
  {
   "cell_type": "code",
   "execution_count": 4,
   "metadata": {},
   "outputs": [],
   "source": [
    "train_df = pd.read_csv('../data/train.csv')\n",
    "val_df = pd.read_csv('../data/val.csv')"
   ]
  },
  {
   "cell_type": "code",
   "execution_count": 5,
   "metadata": {},
   "outputs": [
    {
     "data": {
      "text/plain": [
       "0                                  Doctor Who has finished\n",
       "1                                              you should.\n",
       "2        back at school again. almost weekend. oh wait,...\n",
       "3        My computer is SO slooowww this morning.  I th...\n",
       "4                                On my way to dazzle bar!!\n",
       "                               ...                        \n",
       "21979    STAR TREK WAS PURE AWESOME! LOVE IT!!! <3333  ...\n",
       "21980    Will be going to Indiana Baptist Sunday, Pray ...\n",
       "21981    is sitting thru the boring bits in Titanic wai...\n",
       "21982                                      Missed the play\n",
       "21983    Oh I`m really tired of these migraines! #Endom...\n",
       "Name: text, Length: 21984, dtype: object"
      ]
     },
     "execution_count": 5,
     "metadata": {},
     "output_type": "execute_result"
    }
   ],
   "source": [
    "train_df['text']"
   ]
  },
  {
   "cell_type": "code",
   "execution_count": null,
   "metadata": {},
   "outputs": [],
   "source": []
  }
 ],
 "metadata": {
  "kernelspec": {
   "display_name": "llm_env",
   "language": "python",
   "name": "python3"
  },
  "language_info": {
   "codemirror_mode": {
    "name": "ipython",
    "version": 3
   },
   "file_extension": ".py",
   "mimetype": "text/x-python",
   "name": "python",
   "nbconvert_exporter": "python",
   "pygments_lexer": "ipython3",
   "version": "3.10.14"
  }
 },
 "nbformat": 4,
 "nbformat_minor": 2
}
