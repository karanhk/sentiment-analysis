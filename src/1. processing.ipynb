{
 "cells": [
  {
   "cell_type": "code",
   "execution_count": 1,
   "metadata": {},
   "outputs": [],
   "source": [
    "import pandas as pd\n",
    "import nltk, re\n",
    "import numpy as np\n",
    "from tensorflow import keras\n",
    "from sklearn.model_selection import train_test_split\n",
    "from nltk.corpus import stopwords\n",
    "from nltk.stem import PorterStemmer\n",
    "from tensorflow.keras.preprocessing.text import Tokenizer"
   ]
  },
  {
   "cell_type": "markdown",
   "metadata": {},
   "source": [
    "### Split into train and validation"
   ]
  },
  {
   "cell_type": "code",
   "execution_count": 2,
   "metadata": {},
   "outputs": [],
   "source": [
    "df = pd.read_csv('../data/org_train.csv',encoding='latin1',usecols=['text','sentiment'])\n",
    "train_df, val_df = train_test_split(df,test_size=0.2,random_state=42)\n",
    "\n",
    "train_df.to_csv('../data/train.csv',index=False)\n",
    "val_df.to_csv('../data/val.csv',index=False)"
   ]
  },
  {
   "cell_type": "markdown",
   "metadata": {},
   "source": [
    "### Read the CSV"
   ]
  },
  {
   "cell_type": "code",
   "execution_count": 3,
   "metadata": {},
   "outputs": [],
   "source": [
    "train_df = pd.read_csv('../data/train.csv')\n",
    "val_df = pd.read_csv('../data/org_test.csv', encoding='latin1', usecols=['text','sentiment'])"
   ]
  },
  {
   "cell_type": "code",
   "execution_count": 4,
   "metadata": {},
   "outputs": [],
   "source": [
    "# drop null\n",
    "train_df = train_df.dropna()\n",
    "val_df = val_df.dropna()"
   ]
  },
  {
   "cell_type": "code",
   "execution_count": 5,
   "metadata": {},
   "outputs": [],
   "source": [
    "# lowercase all text\n",
    "train_df['text'] = train_df['text'].str.lower()\n",
    "val_df['text'] = val_df['text'].str.lower()\n",
    "\n",
    "# keep number and characters only\n",
    "train_df['text'] = train_df['text'].apply((lambda x: re.sub('[^a-zA-z0-9\\s]','',x)))\n",
    "val_df['text'] = val_df['text'].apply((lambda x: re.sub('[^a-zA-z0-9\\s]','',x)))"
   ]
  },
  {
   "cell_type": "code",
   "execution_count": 6,
   "metadata": {},
   "outputs": [],
   "source": [
    "# word tokenization\n",
    "train_df['text'] = train_df['text'].apply(lambda x : nltk.word_tokenize(x))\n",
    "val_df['text'] = val_df['text'].apply(lambda x : nltk.word_tokenize(x))"
   ]
  },
  {
   "cell_type": "code",
   "execution_count": 7,
   "metadata": {},
   "outputs": [],
   "source": [
    "# removing stop words\n",
    "stop_words = stopwords.words('english')\n",
    "train_df['text'] = train_df['text'].apply(lambda x : np.setdiff1d(x,stop_words))\n",
    "val_df['text'] = val_df['text'].apply(lambda x : np.setdiff1d(x,stop_words))"
   ]
  },
  {
   "cell_type": "code",
   "execution_count": 8,
   "metadata": {},
   "outputs": [],
   "source": [
    "# remove text with no words\n",
    "train_df['len'] = train_df['text'].apply(lambda x : len(x))\n",
    "train_df = train_df[train_df['len'] > 0]\n",
    "train_df.drop('len',axis=1,inplace=True)\n",
    "\n",
    "val_df['len'] = val_df['text'].apply(lambda x : len(x))\n",
    "val_df = val_df[val_df['len'] > 0]\n",
    "val_df.drop('len',axis=1,inplace=True)"
   ]
  },
  {
   "cell_type": "code",
   "execution_count": 9,
   "metadata": {},
   "outputs": [],
   "source": [
    "# stemming\n",
    "ps = PorterStemmer()\n",
    "train_df['text'] = train_df['text'].apply(lambda x : [ps.stem(word) for word in x])\n",
    "val_df['text'] = val_df['text'].apply(lambda x : [ps.stem(word) for word in x])"
   ]
  },
  {
   "cell_type": "code",
   "execution_count": 10,
   "metadata": {},
   "outputs": [],
   "source": [
    "# convert to statement\n",
    "train_df['text'] = train_df['text'].apply(lambda x : ' '.join(x))\n",
    "val_df['text'] = val_df['text'].apply(lambda x : ' '.join(x))"
   ]
  },
  {
   "cell_type": "code",
   "execution_count": 11,
   "metadata": {},
   "outputs": [],
   "source": [
    "# define tokenizer\n",
    "max_features = 4000\n",
    "tokenizer = Tokenizer(num_words = max_features, split=' ')\n",
    "tokenizer.fit_on_texts(train_df['text'].values)"
   ]
  },
  {
   "cell_type": "code",
   "execution_count": 12,
   "metadata": {},
   "outputs": [],
   "source": [
    "# tokenizing\n",
    "train_df['text'] = tokenizer.texts_to_sequences(train_df['text'])\n",
    "val_df['text'] = tokenizer.texts_to_sequences(val_df['text'])"
   ]
  },
  {
   "cell_type": "code",
   "execution_count": 13,
   "metadata": {},
   "outputs": [],
   "source": [
    "train_df.to_pickle('../data/train_processed.pkl')\n",
    "val_df.to_pickle('../data/test_processed.pkl')"
   ]
  }
 ],
 "metadata": {
  "kernelspec": {
   "display_name": "llm_env",
   "language": "python",
   "name": "python3"
  },
  "language_info": {
   "codemirror_mode": {
    "name": "ipython",
    "version": 3
   },
   "file_extension": ".py",
   "mimetype": "text/x-python",
   "name": "python",
   "nbconvert_exporter": "python",
   "pygments_lexer": "ipython3",
   "version": "3.10.14"
  }
 },
 "nbformat": 4,
 "nbformat_minor": 2
}
